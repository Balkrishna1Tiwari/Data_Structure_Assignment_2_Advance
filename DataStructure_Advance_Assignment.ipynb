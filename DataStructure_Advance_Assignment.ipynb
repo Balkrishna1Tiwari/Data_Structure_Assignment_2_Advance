{
 "cells": [
  {
   "cell_type": "markdown",
   "metadata": {},
   "source": [
    "# Q 1.Write a code to reverse a String"
   ]
  },
  {
   "cell_type": "code",
   "execution_count": 11,
   "metadata": {},
   "outputs": [
    {
     "name": "stdout",
     "output_type": "stream",
     "text": [
      "original_string abbcc and reversed string ccbba\n"
     ]
    }
   ],
   "source": [
    "str1=\"abbcc\"\n",
    "reversed_string=str1[::-1]\n",
    "\n",
    "print(f\"original_string {str1} and reversed string {reversed_string}\" )\n"
   ]
  },
  {
   "cell_type": "markdown",
   "metadata": {},
   "source": [
    "# Q 2 Write a code to count number of vowels in a string"
   ]
  },
  {
   "cell_type": "code",
   "execution_count": 12,
   "metadata": {},
   "outputs": [
    {
     "name": "stdout",
     "output_type": "stream",
     "text": [
      "number of vowels in abbbccuai is 4\n"
     ]
    }
   ],
   "source": [
    "string='abbbccuai'\n",
    "\n",
    "vowels=['a','e','i','o','u']\n",
    "count=0\n",
    "for i in string:\n",
    "    \n",
    "    if i in vowels:\n",
    "        \n",
    "        count+=1\n",
    "    else:\n",
    "        \n",
    "        continue\n",
    "    \n",
    "print(f\"number of vowels in {string} is {count}\")"
   ]
  },
  {
   "cell_type": "markdown",
   "metadata": {},
   "source": [
    "# Q3 write a code to check given string is palindrome or not"
   ]
  },
  {
   "cell_type": "code",
   "execution_count": 13,
   "metadata": {},
   "outputs": [
    {
     "name": "stdout",
     "output_type": "stream",
     "text": [
      "string is palindrome\n"
     ]
    }
   ],
   "source": [
    "string=\"abba\"\n",
    "\n",
    "reversed_string=string[::-1]\n",
    "\n",
    "if string==reversed_string:\n",
    "    \n",
    "    print('string is palindrome')\n",
    "else:\n",
    "    \n",
    "    print('string is mot palindrome')"
   ]
  },
  {
   "cell_type": "markdown",
   "metadata": {},
   "source": [
    "# Q 4.Write a code to check Given Strings are Anagram To Each Other or Not"
   ]
  },
  {
   "cell_type": "code",
   "execution_count": 14,
   "metadata": {},
   "outputs": [
    {
     "name": "stdout",
     "output_type": "stream",
     "text": [
      "strings are anagrams to each others\n"
     ]
    }
   ],
   "source": [
    "s1 = \"listen\"\n",
    "s2 = \"silent\"\n",
    "\n",
    "\n",
    "s1=s1.split()\n",
    "\n",
    "for i in s2:\n",
    "    \n",
    "    if i in s2:\n",
    "        continue\n",
    "    else:\n",
    "        \n",
    "        print('strings are not anagrams to each others')\n",
    "print('strings are anagrams to each others')\n"
   ]
  },
  {
   "cell_type": "code",
   "execution_count": null,
   "metadata": {},
   "outputs": [],
   "source": []
  },
  {
   "cell_type": "markdown",
   "metadata": {},
   "source": [
    "# Q.5 Write a code to find all Occuurrences of a given substring within another string"
   ]
  },
  {
   "cell_type": "code",
   "execution_count": 15,
   "metadata": {},
   "outputs": [
    {
     "name": "stdout",
     "output_type": "stream",
     "text": [
      "Occurences [3, 43]\n"
     ]
    }
   ],
   "source": [
    "   \n",
    "main_string='my name is Balkrishna Tiwari and My Sister name is Shivanjali Tiwari'\n",
    "sub_string='name'\n",
    "   \n",
    "start = 0\n",
    "indices = []\n",
    "while True:\n",
    "    start = main_string.find(sub_string, start)\n",
    "    if start == -1:\n",
    "        break\n",
    "    indices.append(start)\n",
    "    start += 1  \n",
    "    \n",
    "print('Occurences',indices)\n",
    "   "
   ]
  },
  {
   "cell_type": "markdown",
   "metadata": {},
   "source": [
    "# Q 6. write a code to perform basic string compression using the count of repeated character"
   ]
  },
  {
   "cell_type": "code",
   "execution_count": 16,
   "metadata": {},
   "outputs": [
    {
     "name": "stdout",
     "output_type": "stream",
     "text": [
      "final compressed_string is a1b4c4d3\n"
     ]
    }
   ],
   "source": [
    "string=\"abbbbccccddd\"\n",
    "\n",
    "\n",
    "previus_chr=string[0]\n",
    "\n",
    "compressed_str=[]\n",
    "count=1\n",
    "for i in range(1,len(string)):\n",
    "    \n",
    "    if string[i]==previus_chr:\n",
    "        count+=1\n",
    "    else:\n",
    "        compressed_str.append(previus_chr+str(count))\n",
    "        \n",
    "        previus_chr=string[i]\n",
    "        count=1\n",
    "    \n",
    "compressed_str.append(previus_chr+str(count))\n",
    "\n",
    "\n",
    "compressed_str=''.join(compressed_str)\n",
    "print(f\"final compressed_string is {compressed_str}\")"
   ]
  },
  {
   "cell_type": "markdown",
   "metadata": {},
   "source": [
    "# Q.7 Write a code to determine if a string has all unique characters"
   ]
  },
  {
   "cell_type": "code",
   "execution_count": 17,
   "metadata": {},
   "outputs": [
    {
     "name": "stdout",
     "output_type": "stream",
     "text": [
      "string has unique character\n"
     ]
    }
   ],
   "source": [
    "string='abcdefgh'\n",
    "\n",
    "set1=set()\n",
    "\n",
    "for i in string:\n",
    "    \n",
    "    if i not in set1:\n",
    "        \n",
    "        set1.add(i)\n",
    "    else:\n",
    "        \n",
    "        print('string has not a unique characters')\n",
    "print('string has unique character')"
   ]
  },
  {
   "cell_type": "markdown",
   "metadata": {},
   "source": [
    "# Q.8 Write a code to convert given string to uppercase or lower case"
   ]
  },
  {
   "cell_type": "code",
   "execution_count": 18,
   "metadata": {},
   "outputs": [
    {
     "name": "stdout",
     "output_type": "stream",
     "text": [
      "HELLO, WORLD!\n",
      "hello, world!\n"
     ]
    }
   ],
   "source": [
    "def convert_case(input_string, to_upper=True):\n",
    "\n",
    "    if to_upper:\n",
    "        return input_string.upper()\n",
    "    else:\n",
    "        return input_string.lower()\n",
    "\n",
    "input_string = \"Hello, World!\"\n",
    "print(convert_case(input_string, to_upper=True))  # Converts to uppercase\n",
    "print(convert_case(input_string, to_upper=False)) # Converts to lowercase\n",
    "\n",
    "    \n",
    "    "
   ]
  },
  {
   "cell_type": "markdown",
   "metadata": {},
   "source": [
    "# Q.9 Write a code to count the number of words in a string"
   ]
  },
  {
   "cell_type": "code",
   "execution_count": 19,
   "metadata": {},
   "outputs": [
    {
     "name": "stdout",
     "output_type": "stream",
     "text": [
      "hence the number of words in string is 5\n"
     ]
    }
   ],
   "source": [
    "input_string = \"Hello, how are you today?\"\n",
    "\n",
    "words_list=input_string.split()\n",
    "\n",
    "\n",
    "count=len(words_list)\n",
    "    \n",
    "print(f\"hence the number of words in string is {count}\")"
   ]
  },
  {
   "cell_type": "markdown",
   "metadata": {},
   "source": [
    "# Q.10 Write a Code to concatenate Two strings without using + operator"
   ]
  },
  {
   "cell_type": "code",
   "execution_count": 20,
   "metadata": {},
   "outputs": [
    {
     "name": "stdout",
     "output_type": "stream",
     "text": [
      "BalkrishnaTiwari\n"
     ]
    }
   ],
   "source": [
    "x='Balkrishna'\n",
    "y='Tiwari'\n",
    "\n",
    "\n",
    "lis1=x.split()\n",
    "\n",
    "\n",
    "for i in y:\n",
    "    \n",
    "    lis1.append(i)\n",
    "    \n",
    "final_string=''.join(lis1)\n",
    "\n",
    "print(final_string)"
   ]
  },
  {
   "cell_type": "markdown",
   "metadata": {},
   "source": [
    "# Q.11 write a code to remove  all occurrences of a specific element from a list"
   ]
  },
  {
   "cell_type": "code",
   "execution_count": 57,
   "metadata": {},
   "outputs": [
    {
     "data": {
      "text/plain": [
       "[1, 2, 4, 5, 6]"
      ]
     },
     "execution_count": 57,
     "metadata": {},
     "output_type": "execute_result"
    }
   ],
   "source": [
    "\n",
    "\n",
    "def remove_all_occurences(input_list,element):\n",
    "    \n",
    "    \n",
    "    final_list=[item for item in input_list if item!=element]\n",
    "    return final_list\n",
    "\n",
    "\n",
    "# input list\n",
    "\n",
    "input_list = [1, 2, 3, 4, 3, 5, 3, 6]\n",
    "element_to_remove = 3\n",
    "\n",
    "remove_all_occurences(input_list,element_to_remove)"
   ]
  },
  {
   "cell_type": "markdown",
   "metadata": {},
   "source": [
    "# Q.12 write a code to find  the second largest  number in a given list of integers"
   ]
  },
  {
   "cell_type": "code",
   "execution_count": 24,
   "metadata": {},
   "outputs": [
    {
     "name": "stdout",
     "output_type": "stream",
     "text": [
      "second largest in list is 6\n"
     ]
    }
   ],
   "source": [
    "list1=[1,5,6,7,3]\n",
    "maximun=max(list1)\n",
    "second_largest=None\n",
    "for i in list1:\n",
    "    \n",
    "    if i<maximun and second_largest==None :\n",
    "        second_largest=i\n",
    "    elif i>second_largest and i!=maximun:\n",
    "        second_largest=i\n",
    "print(f\"second largest in list is {second_largest}\")\n",
    "        \n",
    "        \n",
    "        "
   ]
  },
  {
   "cell_type": "markdown",
   "metadata": {},
   "source": [
    "# Q.13 Create a code to count  the occurences of each element in  a list and return a dictionary with elements as keys and their counts as values"
   ]
  },
  {
   "cell_type": "code",
   "execution_count": 56,
   "metadata": {},
   "outputs": [
    {
     "name": "stdout",
     "output_type": "stream",
     "text": [
      "dictionary is {'1': 2, '3': 1, 'ram': 2, 'Balkrishna': 1}\n"
     ]
    }
   ],
   "source": [
    "list1=['1','1','3','ram','ram','Balkrishna']\n",
    "\n",
    "\n",
    "dictionary={}\n",
    "\n",
    "\n",
    "for i in list1:\n",
    "    if i not in dictionary:\n",
    "        count=list1.count(i)\n",
    "    \n",
    "        dictionary[i]=count\n",
    "    \n",
    "print(f'dictionary is {dictionary}')\n"
   ]
  },
  {
   "cell_type": "markdown",
   "metadata": {},
   "source": [
    "# Q.14 wirte a code to reverse a list  in -place without  using any built-in reverse functions."
   ]
  },
  {
   "cell_type": "code",
   "execution_count": 26,
   "metadata": {},
   "outputs": [
    {
     "name": "stdout",
     "output_type": "stream",
     "text": [
      "reversed list [6, 5, 4, 3, 2, 1]\n"
     ]
    }
   ],
   "source": [
    "list1=[1,2,3,4,5,6]\n",
    "\n",
    "i=0\n",
    "j=len(list1)-1\n",
    "\n",
    "while i<j:\n",
    "    \n",
    "    list1[i],list1[j]=list1[j],list1[i]\n",
    "    i+=1\n",
    "    j-=1\n",
    "    \n",
    "print(f\"reversed list\",list1)"
   ]
  },
  {
   "cell_type": "markdown",
   "metadata": {},
   "source": [
    "# Q.15 implement a code to find and remove duplicates from a list while preserving the original order of a list"
   ]
  },
  {
   "cell_type": "code",
   "execution_count": 27,
   "metadata": {},
   "outputs": [
    {
     "name": "stdout",
     "output_type": "stream",
     "text": [
      "hence the result is [1, 2, 3, 4, 5]\n"
     ]
    }
   ],
   "source": [
    "\n",
    "original_list = [1, 2, 3, 2, 1, 4, 5, 3]\n",
    "\n",
    "seen = set()\n",
    "result = []\n",
    "for item in original_list:\n",
    "   if item not in seen:\n",
    "        result.append(item)\n",
    "        seen.add(item)\n",
    " \n",
    "\n",
    "print(f\"hence the result is {result}\")"
   ]
  },
  {
   "cell_type": "markdown",
   "metadata": {},
   "source": [
    "# Q.16 write a code to check if given list is sorted (either in ascending or descending order) or not"
   ]
  },
  {
   "cell_type": "code",
   "execution_count": 28,
   "metadata": {},
   "outputs": [
    {
     "name": "stdout",
     "output_type": "stream",
     "text": [
      "The list is not sorted.\n"
     ]
    }
   ],
   "source": [
    "lst=[2,4,2,9,4,5,3]\n",
    "ascending = all(lst[i] <= lst[i + 1] for i in range(len(lst) - 1))\n",
    "descending = all(lst[i] >= lst[i + 1] for i in range(len(lst) - 1))\n",
    "\n",
    "\n",
    "if ascending:\n",
    "    print (\"The list is sorted in ascending order.\")\n",
    "elif descending:\n",
    "   print(\"The list is sorted in descending order.\")\n",
    "else:\n",
    "    print( \"The list is not sorted.\")\n",
    "            \n"
   ]
  },
  {
   "cell_type": "markdown",
   "metadata": {},
   "source": [
    "# Q.17 write a code to merge to sorted list in a single sorted list"
   ]
  },
  {
   "cell_type": "code",
   "execution_count": 29,
   "metadata": {},
   "outputs": [
    {
     "name": "stdout",
     "output_type": "stream",
     "text": [
      "the merged list is [1, 2, 3, 4, 5, 6, 7, 8]\n"
     ]
    }
   ],
   "source": [
    "list1 = [1, 3, 5, 7]\n",
    "list2 = [2, 4, 6, 8]\n",
    "\n",
    "merged=[]\n",
    "i=0\n",
    "j=0\n",
    "\n",
    "while i<len(list1) and j<len(list2):\n",
    "    \n",
    "    if list1[i]<=list2[j]:\n",
    "        \n",
    "        merged.append(list1[i])\n",
    "        \n",
    "        i+=1\n",
    "    elif list1[i]>list2[j]:\n",
    "        \n",
    "        merged.append(list2[j])\n",
    "        j+=1\n",
    "   \n",
    "    \n",
    "while i<len(list1):\n",
    "        \n",
    "    merged.append(list1[i])\n",
    "    i+=1\n",
    "    \n",
    "while j<len(list2):\n",
    "        \n",
    "    merged.append(list2[j])\n",
    "    j+=1\n",
    "print(f\"the merged list is {merged}\")"
   ]
  },
  {
   "cell_type": "markdown",
   "metadata": {},
   "source": [
    "# Q.18 implement a code to find a intersection of two given lists"
   ]
  },
  {
   "cell_type": "code",
   "execution_count": 30,
   "metadata": {},
   "outputs": [
    {
     "name": "stdout",
     "output_type": "stream",
     "text": [
      "intersection of two list is [8, 56, 3]\n"
     ]
    }
   ],
   "source": [
    "list1=[3,4,5,3,56,8]\n",
    "list2=[9,6,7,3,1,8,56]\n",
    "\n",
    "set1=set(list1)\n",
    "set2=set(list2)\n",
    "\n",
    "\n",
    "set3=set1&set2\n",
    "\n",
    "print(f\"intersection of two list is {list(set3)}\")"
   ]
  },
  {
   "cell_type": "markdown",
   "metadata": {},
   "source": [
    "# Q.19 write a code to find a union of two given list  without duplicates"
   ]
  },
  {
   "cell_type": "code",
   "execution_count": 31,
   "metadata": {},
   "outputs": [
    {
     "name": "stdout",
     "output_type": "stream",
     "text": [
      "intersection of two list is [1, 3, 4, 5, 6, 7, 8, 9, 56]\n"
     ]
    }
   ],
   "source": [
    "list1=[3,4,5,3,56,8]\n",
    "list2=[9,6,7,3,1,8,56]\n",
    "\n",
    "set1=set(list1)\n",
    "set2=set(list2)\n",
    "\n",
    "\n",
    "set3=set1.union(set2)\n",
    "\n",
    "print(f\"intersection of two list is {list(set3)}\")"
   ]
  },
  {
   "cell_type": "markdown",
   "metadata": {},
   "source": [
    "# Q.20 write a code to shuffle a given list randomly without using any built-in-functions"
   ]
  },
  {
   "cell_type": "code",
   "execution_count": 32,
   "metadata": {},
   "outputs": [
    {
     "name": "stdout",
     "output_type": "stream",
     "text": [
      "Original list: [1, 2, 3, 4, 5]\n",
      "Shuffled list: [4, 5, 2, 3, 1]\n"
     ]
    }
   ],
   "source": [
    "import random\n",
    "\n",
    "def shuffle_list(lst):\n",
    "    n = len(lst)\n",
    "    for i in range(n):\n",
    "        # Generate a random index to swap with\n",
    "        j = random.randint(0, n - 1)\n",
    "        # Swap the elements\n",
    "        lst[i], lst[j] = lst[j], lst[i]\n",
    "    return lst\n",
    "\n",
    "\n",
    "original_list = [1, 2, 3, 4, 5]\n",
    "shuffled_list = shuffle_list(original_list.copy())\n",
    "print(\"Original list:\", original_list)\n",
    "print(\"Shuffled list:\", shuffled_list)"
   ]
  },
  {
   "cell_type": "markdown",
   "metadata": {},
   "source": [
    "# Q.21 write a code that takes two tuples as input and return a new tuple containing elements that are common two both input tuples"
   ]
  },
  {
   "cell_type": "code",
   "execution_count": 36,
   "metadata": {},
   "outputs": [
    {
     "name": "stdout",
     "output_type": "stream",
     "text": [
      "input tuples are (1, 2, 3, 4),(2, 3, 4) , common tuple is---->(2, 3, 4)\n"
     ]
    }
   ],
   "source": [
    "def common_elements(tuple1, tuple2):\n",
    "    # Convert tuples to sets to find the intersection\n",
    "    set1 = set(tuple1)\n",
    "    set2 = set(tuple2)\n",
    "\n",
    "    # Find the intersection of the two sets\n",
    "    common_set = set1 & set2\n",
    "\n",
    "    # Convert the set back to a tuple\n",
    "    return tuple(common_set)\n",
    "\n",
    "\n",
    "tuple1=eval(input('please enter first tuple'))\n",
    "tuple2 = eval(input('please enter second tuple'))\n",
    "common_tuple = common_elements(tuple1, tuple2)\n",
    "print(f\"input tuples are {tuple1},{tuple2} , common tuple is---->{common_tuple}\")  \n"
   ]
  },
  {
   "cell_type": "markdown",
   "metadata": {},
   "source": [
    "# Q.22 create a code that prompts  the user to enter two sets of integers separately comma.and then print the intersection of these two sets"
   ]
  },
  {
   "cell_type": "code",
   "execution_count": 37,
   "metadata": {},
   "outputs": [
    {
     "name": "stdout",
     "output_type": "stream",
     "text": [
      "inter two sets are --({1, 2, 3, 4, 5}, {2, 3, 4, 5}), and ----->The intersection of the two sets is: {2, 3, 4, 5}\n"
     ]
    }
   ],
   "source": [
    "def get_integer_set(prompt):\n",
    "    return set(map(int, input(prompt).split(',')))\n",
    "\n",
    "def main(set1,set2):\n",
    "\n",
    "\n",
    "    # Find the intersection of the two sets\n",
    "    intersection_set = set1 & set2\n",
    "\n",
    "    # Print the intersection\n",
    "    print(f\"inter two sets are --{set1,set2}, and ----->The intersection of the two sets is:\", intersection_set)\n",
    "    \n",
    "\n",
    "\n",
    "set1=set(map(int, input(\"please enter first set\").split(',')))\n",
    "set2=set(map(int, input(\"please enter second set\").split(',')))\n",
    "# Example usage:\n",
    "main(set1,set2)\n"
   ]
  },
  {
   "cell_type": "markdown",
   "metadata": {},
   "source": [
    "# Q.23 write a code to concatenate two tuples. the function should take two tuples as input and return a new tuple containing elements from both input tuples"
   ]
  },
  {
   "cell_type": "code",
   "execution_count": 39,
   "metadata": {},
   "outputs": [
    {
     "name": "stdout",
     "output_type": "stream",
     "text": [
      "(1, 2, 3, 4, 5, 6)\n"
     ]
    }
   ],
   "source": [
    "def concatenate_tuple(t1,t2):\n",
    "    \n",
    "    tuple_3=t1+t2 \n",
    "    return tuple_3\n",
    "\n",
    "print(concatenate_tuple((1,2,3),(4,5,6)))"
   ]
  },
  {
   "cell_type": "markdown",
   "metadata": {},
   "source": [
    "# Q.24 Develop a code that prompts the user to input two sets of strings.then print the elements that are present in the first set but not in the second set"
   ]
  },
  {
   "cell_type": "code",
   "execution_count": 55,
   "metadata": {},
   "outputs": [
    {
     "name": "stdout",
     "output_type": "stream",
     "text": [
      "Elements present in the first set but not in the second set: {'my', 'is', 'balkrishna'}\n"
     ]
    }
   ],
   "source": [
    "\n",
    "\n",
    "def main(set1,set2):\n",
    " \n",
    "  \n",
    "\n",
    "    # Find the elements present in the first set but not in the second set\n",
    "    difference_set = set1 - set2\n",
    "\n",
    "    # Print the result\n",
    "    print(\"Elements present in the first set but not in the second set:\", difference_set)\n",
    "\n",
    "set1=set((input(\"please enter first set\").split(',')))\n",
    "set2=set((input(\"please enter second set\").split(',')))\n",
    "main(set1,set2)\n"
   ]
  },
  {
   "cell_type": "markdown",
   "metadata": {},
   "source": [
    "# Q.25 Create a code that takes a tuple and two integers as input .The function should return a new tuple .containig the elements from original tuple within the specified rang of indices."
   ]
  },
  {
   "cell_type": "code",
   "execution_count": 42,
   "metadata": {},
   "outputs": [
    {
     "name": "stdout",
     "output_type": "stream",
     "text": [
      "The subtuple is: ('1', '2', '3')\n"
     ]
    }
   ],
   "source": [
    "def get_subtuple(tup, start, end):\n",
    "    # Validate the range\n",
    "    if start < 0 or end >= len(tup) or start > end:\n",
    "        return \"Invalid range\"\n",
    "    # Return the subtuple\n",
    "    return tup[start:end + 1]\n",
    "\n",
    "def final_tuple():\n",
    "    # enter tuple\n",
    "    tuple_input = tuple(input(\"Enter the elements of the tuple, separated by commas: \").split(','))\n",
    "\n",
    "    # enter satrt and end index\n",
    "    start_index = int(input(\"Enter the start index: \"))\n",
    "    end_index = int(input(\"Enter the end index: \"))\n",
    "\n",
    "    #final sub_tuple\n",
    "    subtuple = get_subtuple(tuple_input, start_index, end_index)\n",
    "\n",
    "    # Print the result\n",
    "    print(\"The subtuple is:\", subtuple)\n",
    "\n",
    "\n",
    "final_tuple()\n"
   ]
  },
  {
   "cell_type": "markdown",
   "metadata": {},
   "source": [
    "# Q.26 Write a code  that prompts  the user to input two sets of characters .then print the union of two sets"
   ]
  },
  {
   "cell_type": "code",
   "execution_count": 54,
   "metadata": {},
   "outputs": [
    {
     "name": "stdout",
     "output_type": "stream",
     "text": [
      "{'f', 'c', 'g', 'a', 'b', 'h', 'e', 'd'}\n"
     ]
    }
   ],
   "source": [
    "def union_two_set(set1,set2):\n",
    "    \n",
    "    return set1.union(set2)\n",
    "\n",
    "\n",
    "\n",
    "\n",
    "set1=set((input(\"please enter first set\").split(',')))\n",
    "set2=set((input(\"please enter second set\").split(',')))\n",
    "\n",
    "print(union_two_set(set1,set2))"
   ]
  },
  {
   "cell_type": "markdown",
   "metadata": {},
   "source": [
    "# Q.27 Develop a code that takes tuple of integers as input .the function should return the maximum  and minimum values from tuple using tuple unpacking"
   ]
  },
  {
   "cell_type": "code",
   "execution_count": 45,
   "metadata": {},
   "outputs": [
    {
     "name": "stdout",
     "output_type": "stream",
     "text": [
      "The maximum value is: 5\n",
      "The minimum value is: 1\n"
     ]
    },
    {
     "data": {
      "text/plain": [
       "(5, 1)"
      ]
     },
     "execution_count": 45,
     "metadata": {},
     "output_type": "execute_result"
    }
   ],
   "source": [
    "def tuple_unpack_min_max_value(tuple):\n",
    "    \n",
    "    # Find the maximum and minimum values\n",
    "    \n",
    "    max_value = max(tuple)\n",
    "    min_value = min(tuple)\n",
    "    \n",
    "    \n",
    "\n",
    "    # Print the results\n",
    "    print(\"The maximum value is:\", max_value)\n",
    "    print(\"The minimum value is:\", min_value)\n",
    "    return max_value, min_value\n",
    "\n",
    "# Prompt the user to enter a tuple of integers\n",
    "tuple_input = tuple(map(int, input(\"Enter the elements of the tuple, separated by commas: \").split(',')))\n",
    "tuple_unpack_min_max_value(tuple_input)\n"
   ]
  },
  {
   "cell_type": "markdown",
   "metadata": {},
   "source": [
    "# Q.28 Create a code that defines the two sets of integers .Then print union,intersection, and difference of these two sets"
   ]
  },
  {
   "cell_type": "code",
   "execution_count": 52,
   "metadata": {},
   "outputs": [
    {
     "name": "stdout",
     "output_type": "stream",
     "text": [
      "Union of the two sets: {1, 2, 3, 4, 5}\n",
      "Intersection of the two sets: {2, 3, 4, 5}\n",
      "Difference (elements in the first set but not in the second set): {1}\n"
     ]
    }
   ],
   "source": [
    "\n",
    "def set_operations(set1, set2):\n",
    "\n",
    "    union_set = set1 | set2\n",
    "    intersection_set = set1 & set2\n",
    "    difference_set = set1 - set2\n",
    "\n",
    "    # Print the results\n",
    "    print(\"Union of the two sets:\", union_set)\n",
    "    print(\"Intersection of the two sets:\", intersection_set)\n",
    "    print(\"Difference (elements in the first set but not in the second set):\", difference_set)\n",
    "\n",
    "    return union_set, intersection_set, difference_set\n",
    "\n",
    "# Get user input for the two sets\n",
    "set1 = set(map(int, input(\"Enter the first set of integers, separated by commas: \").split(',')))\n",
    "set2 = set(map(int, input(\"Enter the second set of integers, separated by commas: \").split(',')))\n",
    "\n",
    "# Call the function and get the results\n",
    "results = set_operations(set1, set2)\n",
    "\n"
   ]
  },
  {
   "cell_type": "markdown",
   "metadata": {},
   "source": [
    "# Q.29 Write a code that takes tuple and an element as input.The function should return the count of occurrences of the given element in the tuple"
   ]
  },
  {
   "cell_type": "code",
   "execution_count": 49,
   "metadata": {},
   "outputs": [
    {
     "name": "stdout",
     "output_type": "stream",
     "text": [
      "The count of occurrences of '2,' in the tuple is: 0\n"
     ]
    }
   ],
   "source": [
    "\n",
    "\n",
    "def main(tuple_input,element_input):\n",
    "    \n",
    "\n",
    "\n",
    "    # Count occurrences of the element\n",
    "    occurrence_count = tuple_input.count(element_input)\n",
    "\n",
    "    # Print the result\n",
    "    print(f\"The count of occurrences of '{element_input}' in the tuple is:\", occurrence_count)\n",
    "\n",
    "\n",
    "tuple_input = tuple(input(\"Enter the elements of the tuple, separated by commas: \").split(','))\n",
    "\n",
    "element_input = input(\"Enter the element to count: \")\n",
    "main(tuple_input,element_input)\n"
   ]
  },
  {
   "cell_type": "markdown",
   "metadata": {},
   "source": [
    "# Q.30 Develop a code that prompts the user to input two sets of strings .Then print the symmetric difference of these two sets."
   ]
  },
  {
   "cell_type": "code",
   "execution_count": 50,
   "metadata": {},
   "outputs": [
    {
     "name": "stdout",
     "output_type": "stream",
     "text": [
      "The symmetric difference of the two sets is: {'123', '3'}\n"
     ]
    },
    {
     "data": {
      "text/plain": [
       "{'123', '3'}"
      ]
     },
     "execution_count": 50,
     "metadata": {},
     "output_type": "execute_result"
    }
   ],
   "source": [
    "\n",
    "\n",
    "def symmetric_diffrence(set1,set2):\n",
    "    sym_diff= set1 ^ set2\n",
    "\n",
    "    # Print the result\n",
    "    print(\"The symmetric difference of the two sets is:\", sym_diff)\n",
    "    \n",
    "    return set1 ^ set2\n",
    "\n",
    "set1 = set(input(\"Enter the first set of strings, separated by commas: \").split(','))\n",
    "set2 = set(input(\"Enter the second set of strings, separated by commas: \").split(','))\n",
    "\n",
    "symmetric_diffrence(set1,set2)\n"
   ]
  },
  {
   "cell_type": "markdown",
   "metadata": {},
   "source": [
    "# Q.31 Write a code that takes a list of words as input and return a dictionary where the key are unique words and the values are the frequencies of those words in the list"
   ]
  },
  {
   "cell_type": "code",
   "execution_count": 53,
   "metadata": {},
   "outputs": [
    {
     "name": "stdout",
     "output_type": "stream",
     "text": [
      "Word frequencies: {'cow': 2, 'says': 2, 'name': 1, 'fine': 2, 'shine': 2, 'nine': 1}\n"
     ]
    }
   ],
   "source": [
    "def word_frequencies(words):\n",
    "    # Create a dictionary to store word frequencies\n",
    "    frequency_dict = {}\n",
    "    for word in words:\n",
    "        if word in frequency_dict:\n",
    "            frequency_dict[word] += 1\n",
    "        else:\n",
    "            frequency_dict[word] = 1\n",
    "    return frequency_dict\n",
    "\n",
    "def dictionary_final():\n",
    "    # the user to enter a list of words\n",
    "    input_list = input(\"Enter a list of words separated by commas: \").split(',')\n",
    "    \n",
    "    # Strip any leading or trailing whitespace from the words\n",
    "    input_list = [word.strip() for word in input_list]\n",
    "    \n",
    "    # Get the word frequencies\n",
    "    frequency_dict = word_frequencies(input_list)\n",
    "    \n",
    "    # Print the result\n",
    "    print(\"Word frequencies:\", frequency_dict)\n",
    "\n",
    "# Example usage:\n",
    "dictionary_final()\n"
   ]
  },
  {
   "cell_type": "markdown",
   "metadata": {},
   "source": [
    "# Q.32 Write a code that takes two dictionaries as input and merges them into a single dictionary .if there are common keys.the value should be added together"
   ]
  },
  {
   "cell_type": "code",
   "execution_count": null,
   "metadata": {},
   "outputs": [
    {
     "data": {
      "text/plain": [
       "{'name': ['Pw Skills', 'balkrishna Tiwari'],\n",
       " 1: [5, 2],\n",
       " 2: [8, 3],\n",
       " 'SIR_NAME': [8, 3]}"
      ]
     },
     "execution_count": 7,
     "metadata": {},
     "output_type": "execute_result"
    }
   ],
   "source": [
    "def concatenate_two_dict(dict1,dict2):\n",
    "    \n",
    "    \n",
    "    \n",
    "    for key,value in dict2.items():\n",
    "        \n",
    "        if key in dict1:\n",
    "            \n",
    "            values=[value]+[dict1[key]]\n",
    "            \n",
    "            dict1[key]=values\n",
    "        else:\n",
    "            \n",
    "            dict1[key]=values\n",
    "        \n",
    "            \n",
    "    return dict1\n",
    "\n",
    "dict1={'name':'balkrishna Tiwari',1:2,2:3}\n",
    "dict2={'name':'Pw Skills',1:5,2:8,'SIR_NAME':'Tiwari'}         \n",
    "concatenate_two_dict(dict1,dict2)\n",
    "                \n",
    "            \n"
   ]
  },
  {
   "cell_type": "markdown",
   "metadata": {},
   "source": [
    "# Q.33 write a code to acess value in a nested dictionary .The function should take the dictionary and a list of keys and return  the corresponding  value .if any of the keys are not exists in the dictionary ,The function should return  a None"
   ]
  },
  {
   "cell_type": "code",
   "execution_count": null,
   "metadata": {},
   "outputs": [
    {
     "name": "stdout",
     "output_type": "stream",
     "text": [
      "Value for keys ['a', 'b', 'c']: 42\n",
      "Value for keys ['a', 'b', 'x']: None\n"
     ]
    }
   ],
   "source": [
    "def get_nested_value(d, keys):\n",
    "\n",
    "    current = d\n",
    "    for key in keys:\n",
    "        if isinstance(current, dict) and key in current:\n",
    "            current = current[key]\n",
    "        else:\n",
    "            return None\n",
    "    return current\n",
    "\n",
    "# Example usage:\n",
    "nested_dict = {\n",
    "    'a': {\n",
    "        'b': {\n",
    "            'c': 42\n",
    "        }\n",
    "    }\n",
    "}\n",
    "\n",
    "keys = ['a', 'b', 'c']\n",
    "value = get_nested_value(nested_dict, keys)\n",
    "print(f\"Value for keys {keys}: {value}\")\n",
    "\n",
    "# Example with missing key\n",
    "keys_missing = ['a', 'b', 'x']\n",
    "value_missing = get_nested_value(nested_dict, keys_missing)\n",
    "print(f\"Value for keys {keys_missing}: {value_missing}\")\n"
   ]
  },
  {
   "cell_type": "markdown",
   "metadata": {},
   "source": [
    "# Q.34 Write a code that takes a dictionary as input and return a sorted version of it based on the values.You can choose whether two sort in ascending or descending order"
   ]
  },
  {
   "cell_type": "code",
   "execution_count": null,
   "metadata": {},
   "outputs": [
    {
     "name": "stdout",
     "output_type": "stream",
     "text": [
      "Dictionary sorted in ascending order: {'banana': 1, 'cherry': 2, 'apple': 3}\n"
     ]
    }
   ],
   "source": [
    "def sort_dict_by_value(dictionary, order='ascending'):\n",
    "    # Sort the dictionary by its values\n",
    "    if order == 'ascending':\n",
    "        sorted_items = sorted(dictionary.items(), key=lambda item: item[1])\n",
    "    elif order == 'descending':\n",
    "        sorted_items = sorted(dictionary.items(), key=lambda item: item[1], reverse=True)\n",
    "    else:\n",
    "        raise ValueError(\"Invalid order specified. Use 'ascending' or 'descending'.\")\n",
    "    \n",
    "    # Convert the sorted items back to a dictionary\n",
    "    sorted_dict = dict(sorted_items)\n",
    "    return sorted_dict\n",
    "\n",
    "def sort_dictionary():\n",
    "\n",
    "    dictionary = {\n",
    "        'car': 3,\n",
    "        'bus': 1,\n",
    "        'aeroplane': 2,\n",
    "        'size': 1\n",
    "    }\n",
    "\n",
    "    \n",
    "    order = input(\"Enter the sort order ('ascending' or 'descending'): \").strip().lower()\n",
    "    \n",
    "    if order not in ['ascending', 'descending']:\n",
    "        print(\"Invalid sort order. Please enter 'ascending' or 'descending'.\")\n",
    "        return\n",
    "\n",
    "    # sorted dict\n",
    "    sorted_dict = sort_dict_by_value(dictionary, order)\n",
    "    \n",
    "    # Print the result\n",
    "    print(f\"Dictionary sorted in {order} order:\", sorted_dict)\n",
    "\n",
    "\n",
    "sort_dictionary()\n"
   ]
  },
  {
   "cell_type": "markdown",
   "metadata": {},
   "source": [
    "# Q.35 Write a code that inverts a dictionarya.Swapping keys and values .Ensure that the inverted dictionary correctly handles the cases whre multiple dictionary have the same value by storing the keys as a list in unverted dictionary"
   ]
  },
  {
   "cell_type": "code",
   "execution_count": null,
   "metadata": {},
   "outputs": [
    {
     "name": "stdout",
     "output_type": "stream",
     "text": [
      "Inverted dictionary: {3: ['car'], 1: ['bus', 'size'], 2: ['aeroplane']}\n"
     ]
    }
   ],
   "source": [
    "def invert_dict(dictionary):\n",
    "    # Create an inverted dictionary\n",
    "    inverted_dict = {}\n",
    "    \n",
    "    for key, value in dictionary.items():\n",
    "        if value in inverted_dict:\n",
    "            \n",
    "            inverted_dict[value].append(key)\n",
    "        else:\n",
    "            \n",
    "            inverted_dict[value] = [key]\n",
    "    \n",
    "    return inverted_dict\n",
    "\n",
    "def final_dictionary():\n",
    "    \n",
    "    dictionary = {\n",
    "        'car': 3,\n",
    "        'bus': 1,\n",
    "        'aeroplane': 2,\n",
    "        'size': 1\n",
    "    }\n",
    "\n",
    "    # Inverted dict\n",
    "    inverted_dict = invert_dict(dictionary)\n",
    "    \n",
    "    # Print the result\n",
    "    print(\"Inverted dictionary:\", inverted_dict)\n",
    "\n",
    "# Example usage:\n",
    "final_dictionary()\n"
   ]
  }
 ],
 "metadata": {
  "kernelspec": {
   "display_name": "Python 3",
   "language": "python",
   "name": "python3"
  },
  "language_info": {
   "codemirror_mode": {
    "name": "ipython",
    "version": 3
   },
   "file_extension": ".py",
   "mimetype": "text/x-python",
   "name": "python",
   "nbconvert_exporter": "python",
   "pygments_lexer": "ipython3",
   "version": "3.12.4"
  }
 },
 "nbformat": 4,
 "nbformat_minor": 2
}
